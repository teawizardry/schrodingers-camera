{
 "cells": [
  {
   "cell_type": "markdown",
   "metadata": {},
   "source": [
    "# Public and Private CNNs"
   ]
  },
  {
   "cell_type": "markdown",
   "metadata": {},
   "source": [
    "**Import Libraries**"
   ]
  },
  {
   "cell_type": "code",
   "execution_count": 3,
   "metadata": {},
   "outputs": [],
   "source": [
    "import torch\n",
    "import torch.nn as nn\n",
    "import torch.optim as optim\n",
    "from torch.utils.data import DataLoader, Dataset, WeightedRandomSampler\n",
    "from torchvision import transforms\n",
    "import matplotlib.pyplot as plt\n",
    "%matplotlib inline\n",
    "from time import time\n",
    "import numpy as np\n",
    "import emnist as emnist\n",
    "import string\n",
    "from sklearn.metrics import confusion_matrix\n",
    "import seaborn as sn\n",
    "import pandas as pd\n",
    "from sklearn.model_selection import train_test_split\n",
    "from neural import PrivateModel, PublicModel\n",
    "from helper import Helper"
   ]
  },
  {
   "cell_type": "markdown",
   "metadata": {},
   "source": [
    "**Load EMNIST Data**"
   ]
  },
  {
   "cell_type": "code",
   "execution_count": 4,
   "metadata": {},
   "outputs": [],
   "source": [
    "images = np.load('./test_gen_data/images_ft.npy').astype(np.float32)\n",
    "labels = np.load('./test_gen_data/labels_ft.npy').astype(np.uint8)\n",
    "second_labels = Helper.AddLabel(labels).astype(np.uint8)"
   ]
  },
  {
   "cell_type": "code",
   "execution_count": 5,
   "metadata": {},
   "outputs": [
    {
     "name": "stdout",
     "output_type": "stream",
     "text": [
      "(8236, 16, 16)\n"
     ]
    }
   ],
   "source": [
    "print(images.shape)"
   ]
  },
  {
   "cell_type": "code",
   "execution_count": 6,
   "metadata": {},
   "outputs": [],
   "source": [
    "images_train, images_test, labels_train, labels_test = train_test_split(images, labels, shuffle=True)\n",
    "public_images_train, public_images_test, public_labels_train, public_labels_test = train_test_split(images, second_labels, shuffle=True)\n",
    "\n",
    "images_train, images_val, labels_train, labels_val = train_test_split(images_train, labels_train, test_size=0.10, shuffle=True)\n",
    "public_images_train, public_images_val, public_labels_train, public_labels_val = train_test_split(public_images_train, public_labels_train, test_size=0.10, shuffle=True)"
   ]
  },
  {
   "cell_type": "markdown",
   "metadata": {},
   "source": [
    "**Dataset and Dataloader**"
   ]
  },
  {
   "cell_type": "code",
   "execution_count": 7,
   "metadata": {},
   "outputs": [],
   "source": [
    "class EmnistCustomDataset(Dataset):\n",
    "    \"\"\"EMNIST numbers and uppercase letters dataset.\"\"\"\n",
    "\n",
    "    def __init__(self, labels, images, transform=None):\n",
    "        \"\"\"\n",
    "        Args:\n",
    "        labels (array): array of the labels\n",
    "        images (array): image array\n",
    "        transform (callable, optional): optional transform to be applied on a sample.\n",
    "        \"\"\"\n",
    "        self.labels = labels\n",
    "        # self.second_labels = second_labels\n",
    "        self.images = images\n",
    "        self.transform = transform\n",
    "\n",
    "    def __len__(self):\n",
    "        return len(self.labels)\n",
    "\n",
    "    def __getitem__(self, idx):\n",
    "        if torch.is_tensor(idx):\n",
    "            idx = idx.tolist()\n",
    "\n",
    "        image = self.images[idx,:,:]\n",
    "        label = self.labels[idx]\n",
    "        # second_label = self.second_labels[idx]\n",
    "        sample = {'image': image, 'label': label}\n",
    "\n",
    "        if self.transform:\n",
    "            sample['image'] = self.transform(sample['image'])\n",
    "\n",
    "        return sample"
   ]
  },
  {
   "cell_type": "code",
   "execution_count": 8,
   "metadata": {},
   "outputs": [
    {
     "name": "stdout",
     "output_type": "stream",
     "text": [
      "[0 1] [1492 4067]\n",
      "(5559,)\n",
      "[0 1] [182 436]\n",
      "(618,)\n",
      "[0 1] [ 593 1466]\n",
      "(2059,)\n"
     ]
    }
   ],
   "source": [
    "bs = 16\n",
    "\n",
    "labels_unique, counts = np.unique(public_labels_train, return_counts=True)\n",
    "print(labels_unique, counts)\n",
    "class_weights = [sum(counts) / c for c in counts]\n",
    "example_weights = [class_weights[e] for e in public_labels_train]\n",
    "print(np.shape(example_weights))\n",
    "train_sampler = WeightedRandomSampler(example_weights, len(public_labels_train))\n",
    "\n",
    "labels_unique, counts = np.unique(public_labels_val, return_counts=True)\n",
    "print(labels_unique, counts)\n",
    "class_weights = [sum(counts) / c for c in counts]\n",
    "example_weights = [class_weights[e] for e in public_labels_val]\n",
    "print(np.shape(example_weights))\n",
    "val_sampler = WeightedRandomSampler(example_weights, len(public_labels_val))\n",
    "\n",
    "labels_unique, counts = np.unique(public_labels_test, return_counts=True)\n",
    "print(labels_unique, counts)\n",
    "class_weights = [sum(counts) / c for c in counts]\n",
    "example_weights = [class_weights[e] for e in public_labels_test]\n",
    "print(np.shape(example_weights))\n",
    "test_sampler = WeightedRandomSampler(example_weights, len(public_labels_test))"
   ]
  },
  {
   "cell_type": "code",
   "execution_count": 9,
   "metadata": {},
   "outputs": [],
   "source": [
    "emnist_custom_dataset = EmnistCustomDataset(labels_train, images_train, transform=transforms.Compose([transforms.ToPILImage(),transforms.ToTensor()]))\n",
    "trainloader = DataLoader(emnist_custom_dataset, batch_size=bs, shuffle=True)\n",
    "\n",
    "emnist_custom_dataset = EmnistCustomDataset(labels_val, images_val, transform=transforms.Compose([transforms.ToPILImage(),transforms.ToTensor()]))\n",
    "valloader = DataLoader(emnist_custom_dataset, batch_size=bs, shuffle=True)\n",
    "\n",
    "emnist_custom_dataset_test = EmnistCustomDataset(labels_test, images_test, transform=transforms.Compose([transforms.ToPILImage(),transforms.ToTensor()]))\n",
    "testloader = DataLoader(emnist_custom_dataset_test, batch_size=bs, shuffle=True) "
   ]
  },
  {
   "cell_type": "code",
   "execution_count": 10,
   "metadata": {},
   "outputs": [],
   "source": [
    "emnist_custom_dataset_2 = EmnistCustomDataset(public_labels_train, public_images_train, transform=transforms.Compose([transforms.ToPILImage(),transforms.ToTensor()]))\n",
    "public_trainloader = DataLoader(emnist_custom_dataset_2, sampler=train_sampler, batch_size=bs, shuffle=False) \n",
    "\n",
    "emnist_custom_dataset_2 = EmnistCustomDataset(public_labels_val, public_images_val, transform=transforms.Compose([transforms.ToPILImage(),transforms.ToTensor()]))\n",
    "public_valloader = DataLoader(emnist_custom_dataset_2, sampler=val_sampler, batch_size=bs, shuffle=False) \n",
    "\n",
    "emnist_custom_dataset_test_2 = EmnistCustomDataset(public_labels_test, public_images_test, transform=transforms.Compose([transforms.ToPILImage(),transforms.ToTensor()]))\n",
    "public_testloader = DataLoader(emnist_custom_dataset_test_2, sampler=test_sampler, batch_size=bs, shuffle=False) "
   ]
  },
  {
   "cell_type": "markdown",
   "metadata": {},
   "source": [
    "**Device**"
   ]
  },
  {
   "cell_type": "code",
   "execution_count": 11,
   "metadata": {},
   "outputs": [
    {
     "name": "stdout",
     "output_type": "stream",
     "text": [
      "Device: cuda:0\n"
     ]
    }
   ],
   "source": [
    "# select GPU / CPU\n",
    "device = 'cuda:0' if torch.cuda.is_available() else 'cpu'\n",
    "print('Device:', device)"
   ]
  },
  {
   "cell_type": "markdown",
   "metadata": {},
   "source": [
    "## Private CNN"
   ]
  },
  {
   "cell_type": "code",
   "execution_count": 12,
   "metadata": {},
   "outputs": [
    {
     "name": "stdout",
     "output_type": "stream",
     "text": [
      "PrivateModel(\n",
      "  (conv1): Sequential(\n",
      "    (0): Conv2d(1, 20, kernel_size=(3, 3), stride=(1, 1), padding=(2, 2))\n",
      "    (1): ReLU()\n",
      "  )\n",
      "  (conv2): Sequential(\n",
      "    (0): Conv2d(20, 20, kernel_size=(3, 3), stride=(1, 1))\n",
      "    (1): ReLU()\n",
      "  )\n",
      "  (conv3): Sequential(\n",
      "    (0): Conv2d(20, 22, kernel_size=(3, 3), stride=(1, 1), padding=(6, 6))\n",
      "    (1): ReLU()\n",
      "    (2): MaxPool2d(kernel_size=2, stride=2, padding=0, dilation=1, ceil_mode=False)\n",
      "  )\n",
      "  (conv4): Sequential(\n",
      "    (0): Conv2d(22, 10, kernel_size=(3, 3), stride=(2, 2), padding=(5, 5))\n",
      "    (1): ReLU()\n",
      "  )\n",
      "  (conv5): Sequential(\n",
      "    (0): Conv2d(10, 10, kernel_size=(3, 3), stride=(1, 1), padding=(4, 4))\n",
      "    (1): ReLU()\n",
      "  )\n",
      "  (out): Linear(in_features=2890, out_features=36, bias=True)\n",
      ")\n"
     ]
    }
   ],
   "source": [
    "private_model = PrivateModel().to(device)\n",
    "print(private_model)"
   ]
  },
  {
   "cell_type": "markdown",
   "metadata": {},
   "source": [
    "**Training**"
   ]
  },
  {
   "cell_type": "code",
   "execution_count": null,
   "metadata": {},
   "outputs": [],
   "source": [
    "private_model.load_state_dict(torch.load('./resources/private_model_21.pt'))\n",
    "\n",
    "loss_fn = nn.CrossEntropyLoss()\n",
    "optimizer = optim.Adam(private_model.parameters(), lr=0.00001)\n",
    "\n",
    "private_model.train()\n",
    "\n",
    "time0 = time()\n",
    "epochs = 300\n",
    "last_loss = 100\n",
    "patience = 3\n",
    "trigger_times = 0\n",
    "loss_margin = 0.01\n",
    "\n",
    "current_loss = 0.7010402273984603\n",
    "\n",
    "losses = np.zeros((epochs,2))\n",
    "\n",
    "for epoch in range(epochs):  # loop over the dataset multiple times\n",
    "\n",
    "    with torch.enable_grad():\n",
    "        private_model.train()\n",
    "        running_loss = 0.0\n",
    "        for data in trainloader:\n",
    "            # get data\n",
    "            images = data['image']\n",
    "            labels = data['label']\n",
    "\n",
    "            # send to device\n",
    "            images = images.to(device)\n",
    "            labels = labels.to(device)\n",
    "\n",
    "            # zero the parameter gradients\n",
    "            optimizer.zero_grad()\n",
    "\n",
    "            outputs = private_model(images)\n",
    "            loss = loss_fn(outputs[0], labels)\n",
    "            loss.backward()\n",
    "            optimizer.step()\n",
    "\n",
    "            running_loss += loss.item()\n",
    "        else:\n",
    "            print(\"Epoch {} - Training loss: {}\".format(epoch, running_loss/len(trainloader)))\n",
    "            losses[epoch,0] = running_loss/len(trainloader)\n",
    "    \n",
    "    if epoch % 1 == 0:\n",
    "        with torch.no_grad():\n",
    "            private_model.eval()\n",
    "            loss_total = 0\n",
    "            for data in valloader:\n",
    "                outputs = private_model(data['image'].to(device))\n",
    "                loss = loss_fn(outputs[0],data['label'].to(device))\n",
    "                loss_total += loss.item()\n",
    "        \n",
    "        current_loss = loss_total / len(valloader)\n",
    "        print('current val loss: ', current_loss)\n",
    "        losses[epoch,1] = current_loss\n",
    "        print(current_loss - (running_loss/len(trainloader)))\n",
    "\n",
    "        if (current_loss - (running_loss/len(trainloader))) > loss_margin:\n",
    "            trigger_times += 1\n",
    "            if trigger_times > patience:\n",
    "                print('Early stopping!')\n",
    "                path = f\"./test_gen_data/private_ft_model_{epoch}.pt\"\n",
    "                torch.save(private_model.state_dict(), path)\n",
    "                if trigger_times > patience and trigger_times < (patience + 2):\n",
    "                    path_to_use = path\n",
    "                    break\n",
    "        last_loss = current_loss\n",
    "\n",
    "\n",
    "plt.ion()\n",
    "fig, ax = plt.subplots()\n",
    "x = range(epochs)\n",
    "plot0, = ax.plot(x, losses[:,0])\n",
    "plot1, = ax.plot(x, losses[:,1])\n",
    "plt.show()\n",
    "print(\"\\nTraining Finished. \\nTraining Time (in minutes) =\",(time()-time0)/60)"
   ]
  },
  {
   "cell_type": "code",
   "execution_count": 14,
   "metadata": {},
   "outputs": [],
   "source": [
    "# path = f\"./private_models/private_ft_model_{epoch}.pt\"\n",
    "# torch.save(private_model.state_dict(), path)\n",
    "# path_to_use = path"
   ]
  },
  {
   "cell_type": "markdown",
   "metadata": {},
   "source": [
    "**Testing**"
   ]
  },
  {
   "cell_type": "code",
   "execution_count": 15,
   "metadata": {},
   "outputs": [
    {
     "name": "stdout",
     "output_type": "stream",
     "text": [
      "Number Of Images Tested = 618\n",
      "\n",
      "Model Accuracy = 0.02750809061488673\n"
     ]
    }
   ],
   "source": [
    "private_model.load_state_dict(torch.load(path_to_use))\n",
    "\n",
    "y_pred = []\n",
    "y_true = []\n",
    "\n",
    "with torch.no_grad():\n",
    "    private_model.eval()\n",
    "    correct, total = 0, 0\n",
    "    for data in valloader:\n",
    "        outputs = private_model(data['image'].to(device))\n",
    "        _, prediction = torch.max(outputs[0], 1)\n",
    "        torch.set_printoptions(threshold=10_000)\n",
    "        y_pred.extend(prediction.cpu()) # Save Prediction\n",
    "        y_true.extend(data['label']) # Save Truth\n",
    "        for i in range(len(data['label'])):\n",
    "            if(prediction[i]==data['label'][i]):\n",
    "                correct += 1\n",
    "            total += 1\n",
    "\n",
    "print(\"Number Of Images Tested =\", total)\n",
    "print(\"\\nModel Accuracy =\", (correct/total))"
   ]
  },
  {
   "cell_type": "code",
   "execution_count": 16,
   "metadata": {},
   "outputs": [
    {
     "data": {
      "text/plain": [
       "<AxesSubplot:>"
      ]
     },
     "execution_count": 16,
     "metadata": {},
     "output_type": "execute_result"
    },
    {
     "data": {
      "image/png": "[encoded data removed]",
      "text/plain": [
       "<Figure size 1080x720 with 2 Axes>"
      ]
     },
     "metadata": {
      "needs_background": "dark"
     },
     "output_type": "display_data"
    }
   ],
   "source": [
    "# labels for classes\n",
    "classes = string.digits + string.ascii_uppercase\n",
    "\n",
    "# Build confusion matrix\n",
    "cf_matrix = confusion_matrix(y_true, y_pred)\n",
    "df_cm = pd.DataFrame(cf_matrix/np.sum(cf_matrix) *10, index = [i for i in classes],\n",
    "                     columns = [i for i in classes])\n",
    "plt.figure(figsize = (15,10))\n",
    "sn.heatmap(df_cm, annot=True, fmt='.0%')\n",
    "# plt.savefig('output.png')"
   ]
  },
  {
   "cell_type": "markdown",
   "metadata": {},
   "source": [
    "## Public CNN"
   ]
  },
  {
   "cell_type": "code",
   "execution_count": 17,
   "metadata": {},
   "outputs": [
    {
     "name": "stdout",
     "output_type": "stream",
     "text": [
      "PublicModel(\n",
      "  (conv1): Sequential(\n",
      "    (0): Conv2d(1, 20, kernel_size=(3, 3), stride=(1, 1), padding=(2, 2))\n",
      "    (1): ReLU()\n",
      "  )\n",
      "  (conv2): Sequential(\n",
      "    (0): Conv2d(20, 20, kernel_size=(3, 3), stride=(1, 1))\n",
      "    (1): ReLU()\n",
      "  )\n",
      "  (conv3): Sequential(\n",
      "    (0): Conv2d(20, 22, kernel_size=(3, 3), stride=(1, 1), padding=(6, 6))\n",
      "    (1): ReLU()\n",
      "    (2): MaxPool2d(kernel_size=2, stride=2, padding=0, dilation=1, ceil_mode=False)\n",
      "  )\n",
      "  (conv4): Sequential(\n",
      "    (0): Conv2d(22, 10, kernel_size=(3, 3), stride=(2, 2), padding=(5, 5))\n",
      "    (1): ReLU()\n",
      "  )\n",
      "  (conv5): Sequential(\n",
      "    (0): Conv2d(10, 10, kernel_size=(3, 3), stride=(1, 1), padding=(4, 4))\n",
      "    (1): ReLU()\n",
      "  )\n",
      "  (conv6): Sequential(\n",
      "    (0): Conv2d(10, 5, kernel_size=(3, 3), stride=(2, 2), padding=(3, 3))\n",
      "    (1): ReLU()\n",
      "    (2): MaxPool2d(kernel_size=2, stride=2, padding=0, dilation=1, ceil_mode=False)\n",
      "  )\n",
      "  (conv7): Sequential(\n",
      "    (0): Conv2d(5, 5, kernel_size=(2, 2), stride=(1, 1), padding=(5, 5))\n",
      "    (1): ReLU()\n",
      "    (2): MaxPool2d(kernel_size=2, stride=2, padding=0, dilation=1, ceil_mode=False)\n",
      "  )\n",
      "  (out): Linear(in_features=245, out_features=2, bias=True)\n",
      ")\n"
     ]
    }
   ],
   "source": [
    "public_model = PublicModel().to(device)\n",
    "print(public_model)"
   ]
  },
  {
   "cell_type": "markdown",
   "metadata": {},
   "source": [
    "**Training**"
   ]
  },
  {
   "cell_type": "code",
   "execution_count": 18,
   "metadata": {},
   "outputs": [
    {
     "name": "stdout",
     "output_type": "stream",
     "text": [
      "Epoch 0 - Training loss: 1.8973924664930366\n",
      "current val loss:  1.7299368060552156\n",
      "-0.167455660437821\n",
      "Epoch 1 - Training loss: 1.496839816971072\n",
      "current val loss:  1.4568748871485393\n",
      "-0.039964929822532635\n",
      "Epoch 2 - Training loss: 1.3121836822608421\n",
      "current val loss:  1.1786901652812958\n",
      "-0.13349351697954637\n",
      "Epoch 3 - Training loss: 1.1573075478275616\n",
      "current val loss:  1.1808093373592083\n",
      "0.023501789531646722\n",
      "Epoch 4 - Training loss: 1.0314580673116378\n",
      "current val loss:  1.017873038084079\n",
      "-0.013585029227558776\n",
      "Epoch 5 - Training loss: 0.9699725267188303\n",
      "current val loss:  0.9388140455270425\n",
      "-0.031158481191787768\n",
      "Epoch 6 - Training loss: 0.9285925324449594\n",
      "current val loss:  0.8563287533246554\n",
      "-0.07226377912030402\n",
      "Epoch 7 - Training loss: 0.879493457661278\n",
      "current val loss:  0.8745657908610809\n",
      "-0.0049276668001970725\n",
      "Epoch 8 - Training loss: 0.8799158381833427\n",
      "current val loss:  0.8572482252732302\n",
      "-0.022667612910112545\n",
      "Epoch 9 - Training loss: 0.8351401508539572\n",
      "current val loss:  0.7800342104373834\n",
      "-0.055105940416573795\n",
      "Epoch 10 - Training loss: 0.8348632075491993\n",
      "current val loss:  0.8716292763367678\n",
      "0.036766068787568496\n",
      "Epoch 11 - Training loss: 0.8021995611917013\n",
      "current val loss:  0.7795385152865679\n",
      "-0.022661045905133403\n",
      "Epoch 12 - Training loss: 0.7976764063725527\n",
      "current val loss:  0.785511512022752\n",
      "-0.012164894349800615\n",
      "Epoch 13 - Training loss: 0.7865611408976303\n",
      "current val loss:  0.7845167334263141\n",
      "-0.0020444074713161786\n",
      "Epoch 14 - Training loss: 0.7732329207590256\n",
      "current val loss:  0.7485587826141944\n",
      "-0.024674138144831215\n",
      "Epoch 15 - Training loss: 0.7701126063007048\n",
      "current val loss:  0.7534315540240362\n",
      "-0.016681052276668606\n",
      "Epoch 16 - Training loss: 0.7696965276852421\n",
      "current val loss:  0.7889601450700027\n",
      "0.019263617384760567\n",
      "Epoch 17 - Training loss: 0.7582278957312134\n",
      "current val loss:  0.758083218183273\n",
      "-0.00014467754794045273\n",
      "Epoch 18 - Training loss: 0.7552047304209621\n",
      "current val loss:  0.7518995281977531\n",
      "-0.0033052022232090694\n",
      "Epoch 19 - Training loss: 0.7509962957480858\n",
      "current val loss:  0.7344620823860168\n",
      "-0.01653421336206895\n",
      "Epoch 20 - Training loss: 0.7455520146879656\n",
      "current val loss:  0.7479603871321067\n",
      "0.0024083724441410492\n",
      "Epoch 21 - Training loss: 0.745646450625754\n",
      "current val loss:  0.7307287424038618\n",
      "-0.0149177082218922\n",
      "Epoch 22 - Training loss: 0.7366985334404583\n",
      "current val loss:  0.7116580116443145\n",
      "-0.0250405217961438\n",
      "Epoch 23 - Training loss: 0.729719322817079\n",
      "current val loss:  0.731325103686406\n",
      "0.0016057808693270559\n",
      "Epoch 24 - Training loss: 0.7291839761638094\n",
      "current val loss:  0.7194634981644459\n",
      "-0.009720477999363486\n",
      "Epoch 25 - Training loss: 0.7282057103069349\n",
      "current val loss:  0.711274688060467\n",
      "-0.01693102224646792\n",
      "Epoch 26 - Training loss: 0.7206893477631712\n",
      "current val loss:  0.7251765345915769\n",
      "0.004487186828405765\n",
      "Epoch 27 - Training loss: 0.7273021194784121\n",
      "current val loss:  0.7025726727950268\n",
      "-0.02472944668338528\n",
      "Epoch 28 - Training loss: 0.7228671110224449\n",
      "current val loss:  0.699688990910848\n",
      "-0.023178120111596923\n",
      "Epoch 29 - Training loss: 0.7234248087323946\n",
      "current val loss:  0.718371719886095\n",
      "-0.005053088846299514\n",
      "Epoch 30 - Training loss: 0.7143573725018008\n",
      "current val loss:  0.7137764478341128\n",
      "-0.0005809246676879987\n",
      "Epoch 31 - Training loss: 0.7139920741319656\n",
      "current val loss:  0.7096755626874093\n",
      "-0.004316511444556359\n",
      "Epoch 32 - Training loss: 0.704290351819718\n",
      "current val loss:  0.7247519279137636\n",
      "0.02046157609404564\n",
      "Epoch 33 - Training loss: 0.7099087728166033\n",
      "current val loss:  0.7127985587486854\n",
      "0.0028897859320821118\n",
      "Epoch 34 - Training loss: 0.708148167051118\n",
      "current val loss:  0.7226863136658301\n",
      "0.014538146614712089\n",
      "Early stopping!\n"
     ]
    },
    {
     "data": {
      "image/png": "[encoded data removed]",
      "text/plain": [
       "<Figure size 432x288 with 1 Axes>"
      ]
     },
     "metadata": {
      "needs_background": "dark"
     },
     "output_type": "display_data"
    },
    {
     "name": "stdout",
     "output_type": "stream",
     "text": [
      "\n",
      "Training Finished. \n",
      "Training Time (in minutes) = 0.8729891061782837\n"
     ]
    }
   ],
   "source": [
    "public_model.load_state_dict(torch.load('./resources/public_model_84.pt'))\n",
    "\n",
    "loss_fn = nn.CrossEntropyLoss()\n",
    "optimizer = optim.Adam(public_model.parameters(), lr=0.00001)\n",
    "\n",
    "public_model.train()\n",
    "\n",
    "time0 = time()\n",
    "epochs = 300\n",
    "last_loss = 100\n",
    "patience = 4\n",
    "trigger_times = 0\n",
    "loss_margin = 0.01\n",
    "\n",
    "losses = np.zeros((epochs,2))\n",
    "\n",
    "for epoch in range(epochs):  # loop over the dataset multiple times\n",
    "\n",
    "    with torch.enable_grad():\n",
    "        public_model.train()\n",
    "        running_loss = 0.0\n",
    "        for data in public_trainloader:\n",
    "            # get data\n",
    "            images = data['image']\n",
    "            labels = data['label']\n",
    "\n",
    "            # send to device\n",
    "            images = images.to(device)\n",
    "            labels = labels.to(device)\n",
    "\n",
    "            # zero the parameter gradients\n",
    "            optimizer.zero_grad()\n",
    "\n",
    "            outputs = public_model(images)\n",
    "            loss = loss_fn(outputs[0], labels)\n",
    "            loss.backward()\n",
    "            optimizer.step()\n",
    "\n",
    "            running_loss += loss.item()\n",
    "        else:\n",
    "            print(\"Epoch {} - Training loss: {}\".format(epoch, running_loss/len(public_trainloader)))\n",
    "            losses[epoch,0] = running_loss/len(public_trainloader)\n",
    "\n",
    "    with torch.no_grad():\n",
    "        public_model.eval()\n",
    "        loss_total = 0\n",
    "        for data in public_valloader:\n",
    "            outputs = public_model(data['image'].to(device))\n",
    "            loss = loss_fn(outputs[0],data['label'].to(device))\n",
    "            loss_total += loss.item()\n",
    "    \n",
    "    current_loss = loss_total / len(public_valloader)\n",
    "    print('current val loss: ', current_loss)\n",
    "    losses[epoch,1] = current_loss\n",
    "\n",
    "    print(current_loss - (running_loss/len(trainloader)))\n",
    "\n",
    "    if (current_loss - (running_loss/len(trainloader))) > loss_margin:\n",
    "        trigger_times += 1\n",
    "        if trigger_times > patience:\n",
    "            print('Early stopping!')\n",
    "            path = f\"./test_gen_data/public_ft_model_{epoch}.pt\"\n",
    "            torch.save(public_model.state_dict(), path)\n",
    "            if trigger_times > patience and trigger_times < (patience + 2):\n",
    "                path_to_use = path\n",
    "                break\n",
    "    last_loss = current_loss\n",
    "\n",
    "\n",
    "plt.ion()\n",
    "fig, ax = plt.subplots()\n",
    "x = range(epochs)\n",
    "plot0, = ax.plot(x, losses[:,0])\n",
    "plot1, = ax.plot(x, losses[:,1])\n",
    "plt.show()\n",
    "print(\"\\nTraining Finished. \\nTraining Time (in minutes) =\",(time()-time0)/60)"
   ]
  },
  {
   "cell_type": "markdown",
   "metadata": {},
   "source": [
    "**Testing**"
   ]
  },
  {
   "cell_type": "code",
   "execution_count": 19,
   "metadata": {},
   "outputs": [
    {
     "name": "stdout",
     "output_type": "stream",
     "text": [
      "Number Of Images Tested = 2059\n",
      "\n",
      "Model Accuracy = 0.48712967459932005\n"
     ]
    }
   ],
   "source": [
    "public_model.load_state_dict(torch.load(path_to_use))\n",
    "\n",
    "y_pred_2 = []\n",
    "y_true_2 = []\n",
    "\n",
    "with torch.no_grad():\n",
    "    public_model.eval()\n",
    "    correct, total = 0, 0\n",
    "    for data in public_testloader:\n",
    "        outputs = public_model(data['image'].to(device))\n",
    "        _, prediction = torch.max(outputs[0], 1)\n",
    "        y_pred_2.extend(prediction.cpu()) # Save Prediction\n",
    "        y_true_2.extend(data['label']) # Save Truth\n",
    "        for i in range(len(data['label'])):\n",
    "            if(prediction[i]==data['label'][i]):\n",
    "                correct += 1\n",
    "            total += 1\n",
    "\n",
    "print(\"Number Of Images Tested =\", total)\n",
    "print(\"\\nModel Accuracy =\", (correct/total))"
   ]
  },
  {
   "cell_type": "code",
   "execution_count": 20,
   "metadata": {},
   "outputs": [
    {
     "data": {
      "text/plain": [
       "<AxesSubplot:>"
      ]
     },
     "execution_count": 20,
     "metadata": {},
     "output_type": "execute_result"
    },
    {
     "data": {
      "image/png": "[encoded data removed]",
      "text/plain": [
       "<Figure size 576x576 with 2 Axes>"
      ]
     },
     "metadata": {
      "needs_background": "dark"
     },
     "output_type": "display_data"
    }
   ],
   "source": [
    "# labels for classes\n",
    "classes = ('Digit', 'Letter')\n",
    "\n",
    "# Build confusion matrix\n",
    "cf_matrix = confusion_matrix(y_true_2, y_pred_2)\n",
    "# print(cf_matrix)\n",
    "df_cm = pd.DataFrame(cf_matrix/np.sum(cf_matrix), index = [i for i in classes],\n",
    "                     columns = [i for i in classes])\n",
    "plt.figure(figsize = (8,8))\n",
    "sn.heatmap(df_cm, annot=True, fmt='%')"
   ]
  }
 ],
 "metadata": {
  "kernelspec": {
   "display_name": "Python 3.9.7 ('quantum')",
   "language": "python",
   "name": "python3"
  },
  "language_info": {
   "codemirror_mode": {
    "name": "ipython",
    "version": 3
   },
   "file_extension": ".py",
   "mimetype": "text/x-python",
   "name": "python",
   "nbconvert_exporter": "python",
   "pygments_lexer": "ipython3",
   "version": "3.9.7"
  },
  "orig_nbformat": 4,
  "vscode": {
   "interpreter": {
    "hash": "8af88fd3400d40157fd294ba93af5ce3c826c1be1b3435acf3ca0009bfc653e6"
   }
  }
 },
 "nbformat": 4,
 "nbformat_minor": 2
}
